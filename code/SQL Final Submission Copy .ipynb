{
 "cells": [
  {
   "cell_type": "markdown",
   "id": "5dc8d448",
   "metadata": {},
   "source": [
    "# SQL Querry"
   ]
  },
  {
   "cell_type": "markdown",
   "id": "9f2df17e",
   "metadata": {},
   "source": [
    "Initital Test Query to Examin the Dataset"
   ]
  },
  {
   "cell_type": "code",
   "execution_count": null,
   "id": "6882f9a2",
   "metadata": {},
   "outputs": [],
   "source": [
    "CREATE TABLE `CB_2107.SNOMED` AS \n",
    "SELECT * FROM `CB_LOOKUPS.tbl_EFI2_Codelist`\n",
    "WHERE (Codedescription LIKE \"%bronchitis\")\n",
    "#Querry 1 - was run on simple dissorder to see code dupliacation exist"
   ]
  },
  {
   "cell_type": "code",
   "execution_count": null,
   "id": "2e922adc",
   "metadata": {},
   "outputs": [],
   "source": [
    "CREATE TABLE `CB_2107.SNOMED_FLU` AS \n",
    "SELECT * FROM `CB_LOOKUPS.tbl_EFI2_Codelist`\n",
    "WHERE (SNOMEDCT_CONCEPTID LIKE \"%6142004 \")\n",
    "##### This code was run to find all the types of flue codes that are avaialble on the SNOMED data list for FLU"
   ]
  },
  {
   "cell_type": "code",
   "execution_count": null,
   "id": "82477a2b",
   "metadata": {},
   "outputs": [],
   "source": [
    "CREATE TABLE `CB_2107.People_Details` AS\n",
    "SELECT * FROM `CB_FDM_PrimaryCare_V8.person`\n",
    "\n",
    "WHERE (year_of_birth) > 1950\n",
    "  AND death_datetime IS NULL;\n",
    "### This code is run to create a table from the entire dataset, that shows only people born after the year 1950, \n",
    "#the dataset contains data that is as Old as people born in the 1900, however for the purpose if this reserch\n",
    "#I have decided to unly include the poeple from 1950"
   ]
  },
  {
   "cell_type": "code",
   "execution_count": null,
   "id": "89600481",
   "metadata": {},
   "outputs": [],
   "source": [
    "CREATE TABLE `CB_2107.death_Count_null_per_Year` AS\n",
    "SELECT (year_of_birth) AS birth_year,\n",
    "  COUNT(*) AS null_death_count\n",
    "FROM\n",
    "   `CB_FDM_PrimaryCare_V8.person`\n",
    "WHERE\n",
    "  death_datetime IS NULL\n",
    "GROUP BY (year_of_birth)\n",
    "ORDER BY (year_of_birth);\n",
    "### This Query was run to see how many death data was captured and how many null \n",
    "#values per data per year, this was done to check the missinging value feature "
   ]
  },
  {
   "cell_type": "code",
   "execution_count": null,
   "id": "1326ffd8",
   "metadata": {},
   "outputs": [],
   "source": [
    "SELECT (year_of_birth) AS birth_year,\n",
    "  COUNT(*) AS null_birth_count\n",
    "FROM\n",
    "   `CB_FDM_PrimaryCare_V8.person`\n",
    "WHERE\n",
    "  year_of_birth IS NULL\n",
    "GROUP BY (year_of_birth)\n",
    "ORDER BY (year_of_birth);\n",
    "#### There are no null values for Date of birth - That data is captured perfectly "
   ]
  },
  {
   "cell_type": "code",
   "execution_count": null,
   "id": "e1dcd853",
   "metadata": {},
   "outputs": [],
   "source": [
    "SELECT\n",
    "  COUNT(*) AS ethnicity_source_value\n",
    "FROM\n",
    "  `CB_FDM_PrimaryCare_V8.person`\n",
    "WHERE\n",
    "  ethnicity_source_value = 'Unknown/Refuse to say';\n",
    "#This category should have been split into two - to analyse if people did not know their ethnicity or \n",
    "# if they refused to say? There is no way to distinguish these details. Also, was this data recorded on the day the patient was \n",
    "# registered? or was it captured later and only entered as \"Unknow/refuse to say\" because the people who recorded the\n",
    "#did not know then? There should be two separate sections, and this field must be made mandatory to \n",
    "#understand the origins of people, especially considering how diverse the country is and how much this data could mean. \n",
    "#Also, when this data gets carried forward, there is a possibility that there are two separate categories. \n",
    "#but since this data is not separated.. which category will this fit into? If it is placed in the wrong category, will that miss \n",
    "#lead research? "
   ]
  },
  {
   "cell_type": "code",
   "execution_count": null,
   "id": "3b378c76",
   "metadata": {},
   "outputs": [],
   "source": [
    "SELECT \n",
    "p.person_id,\n",
    "a.care_site_id,\n",
    "m.nameofmedication,\n",
    "c.care_site_name\n",
    "FROM `yhcr-prd-phm-bia-core.CB_FDM_PrimaryCare_V8.person` AS p\n",
    "LEFT JOIN `yhcr-prd-phm-bia-core.CB_FDM_PrimaryCare_V8.tbl_srappointment` AS a ON p.person_id = a.person_id\n",
    "LEFT JOIN `yhcr-prd-phm-bia-core.CB_FDM_PrimaryCare_V8.tbl_srprimarycaremedication` AS m ON p.person_id = m.person_id\n",
    "LEFT JOIN `yhcr-prd-phm-bia-core.CB_FDM_PrimaryCare_V8.care_site` AS c ON a.care_site_id = c.care_site_id\n",
    "LIMIT 1000;\n"
   ]
  },
  {
   "cell_type": "markdown",
   "id": "0b44c332",
   "metadata": {},
   "source": [
    "Find out the count CTV3 codes that are assigned according to thier care site id\n",
    "number of record per CTV3 code per Care site ID -\n",
    "Then find the code for Broncitis through open code list\n",
    "see which GP practice used which of the codes the most often..\n",
    "see if there is a problem? - If a certain code is used more often then others?"
   ]
  },
  {
   "cell_type": "code",
   "execution_count": null,
   "id": "26d8d48b",
   "metadata": {},
   "outputs": [],
   "source": [
    "CREATE TABLE `CB_2107.MassTest` AS\n",
    "  SELECT\n",
    "  P.person_id,\n",
    "  C.person_id AS srcode_person_id,\n",
    "  C.care_site_id,\n",
    "  Ca.care_site_name,\n",
    "  C.ctv3code,\n",
    "  C.ctv3text,\n",
    "  C.dateevent\n",
    "\n",
    "FROM `yhcr-prd-phm-bia-core.CB_FDM_PrimaryCare_V8.person` AS P\n",
    "JOIN\n",
    "  `yhcr-prd-phm-bia-core.CB_FDM_PrimaryCare_V8.tbl_srcode` AS C ON P.person_id = C.person_id\n",
    "JOIN\n",
    "  `yhcr-prd-phm-bia-core.CB_FDM_PrimaryCare_V8.care_site`  AS Ca ON C.care_site_id = Ca.care_site_id;\n",
    "# Testing to join the tables based on Primary Key "
   ]
  },
  {
   "cell_type": "code",
   "execution_count": null,
   "id": "33ec96a5",
   "metadata": {},
   "outputs": [],
   "source": [
    "CREATE TABLE `CB_2107.Aggregate_Data_MassTest` AS\n",
    "SELECT\n",
    "  C.care_site_id,\n",
    "  C.ctv3code,\n",
    "  C.ctv3text,\n",
    "  COUNT(*) AS RecordCount\n",
    "FROM\n",
    "  `yhcr-prd-phm-bia-core.CB_FDM_PrimaryCare_V8.person` AS P\n",
    "JOIN\n",
    "   `yhcr-prd-phm-bia-core.CB_FDM_PrimaryCare_V8.tbl_srcode` AS C ON P.person_id = C.person_id\n",
    "JOIN\n",
    "  `yhcr-prd-phm-bia-core.CB_FDM_PrimaryCare_V8.care_site`  AS Ca ON C.care_site_id = Ca.care_site_id\n",
    "GROUP BY\n",
    "  C.care_site_id,\n",
    "  C.ctv3code,\n",
    "  C.ctv3text\n",
    "ORDER BY\n",
    "  C.care_site_id,\n",
    "  C.ctv3code;\n",
    "\n",
    "#### group data in the above table by  record count  CareSiteID and CTV3 Code - This shows the care site ID, the CTV Code \n",
    "# and the number of patients per code per care site - This shows if a certain practice uses a cerain code more regularly \n",
    "# than the other practices THIS IS FOR ALL ISSUES"
   ]
  },
  {
   "cell_type": "code",
   "execution_count": null,
   "id": "373c7469",
   "metadata": {},
   "outputs": [],
   "source": [
    "CREATE TABLE `CB_2107.Bronchitis` AS\n",
    "SELECT ctv3code,ctv3text,person_id,care_site_id\n",
    "FROM `CB_FDM_PrimaryCare_V8.tbl_srcode`\n",
    "WHERE ctv3text LIKE '%bronchitis%';\n",
    "# Query to get all the patients that have bronchitis "
   ]
  },
  {
   "cell_type": "code",
   "execution_count": null,
   "id": "2e153580",
   "metadata": {},
   "outputs": [],
   "source": [
    "CREATE TABLE `CB_2107.Bronchitis_Test` AS\n",
    "SELECT ctv3code,\n",
    "ctv3text,\n",
    "person_id,\n",
    "care_site_id,\n",
    "FROM `CB_FDM_PrimaryCare_V8.tbl_srcode`\n",
    "WHERE ctv3text LIKE '%bronchitis%'\n",
    "GROUP BY\n",
    "  care_site_id,\n",
    "  ctv3code,\n",
    "  ctv3text,\n",
    "  person_id;\n",
    "#Table created - May not be a useful code - coz nothing is aggregated - it just pulls each indevidual person that has\n",
    "#bronchitis per caresite id "
   ]
  },
  {
   "cell_type": "code",
   "execution_count": null,
   "id": "19ca84f3",
   "metadata": {},
   "outputs": [],
   "source": [
    "CREATE TABLE `CB_2107.Bronchitis_Aggregated_by_CareSite` AS\n",
    "SELECT\n",
    "  care_site_id,\n",
    "  ctv3code,\n",
    "  ctv3text,\n",
    "  COUNT(DISTINCT person_id) AS PersonCount\n",
    "FROM\n",
    "  `CB_FDM_PrimaryCare_V8.tbl_srcode`\n",
    "\n",
    "WHERE\n",
    "  ctv3text LIKE '%bronchitis%'\n",
    "\n",
    "GROUP BY\n",
    "  care_site_id,\n",
    "  ctv3code,\n",
    "  ctv3text\n",
    "ORDER BY\n",
    "  care_site_id,\n",
    "  ctv3text;\n",
    "\n",
    "# Get the numebr of records at each site, per type of bronchitis \n",
    "#A table has ctv3code, ctv3text, person_id, care_site_id - i want to know the number of people \n",
    "#diagnosed with each disease in each care_site_id , where the code meaning contains the term \"bronchitis\""
   ]
  },
  {
   "cell_type": "code",
   "execution_count": null,
   "id": "4d949365",
   "metadata": {},
   "outputs": [],
   "source": [
    "CREATE TABLE `CB_2107.Dates_notMatch_All` AS\n",
    "SELECT care_site_id,\n",
    "  CASE WHEN dateeventrecorded = dateevent THEN 'Match'\n",
    "       ELSE 'DontMatch' END AS RecordCategory,\n",
    "  COUNT(*) AS RecordCount\n",
    "FROM\n",
    "  `CB_FDM_PrimaryCare_V8.tbl_srcode`\n",
    "GROUP BY\n",
    "  dateevent,\n",
    "  care_site_id,\n",
    "  dateeventrecorded;\n",
    "\n",
    "    ## A table has Table had incidenthappened and incidentrecorded, for each record these two dates may not be exactly the same,\n",
    "    #Write SQL to get the number of records that have matching and mismatching records"
   ]
  },
  {
   "cell_type": "code",
   "execution_count": null,
   "id": "987ca4f7",
   "metadata": {},
   "outputs": [],
   "source": [
    "CREATE TABLE `CB_2107.Dates_notMatch_All_groupedbyCaresite` AS\n",
    "SELECT\n",
    "  care_site_id,\n",
    "  SUM(CASE WHEN dateevent = dateeventrecorded THEN 1 ELSE 0 END) AS matching_records,\n",
    "  SUM(CASE WHEN dateevent <> dateeventrecorded THEN 1 ELSE 0 END) AS mismatching_records\n",
    "FROM\n",
    "  `CB_FDM_PrimaryCare_V8.tbl_srcode`\n",
    "GROUP BY\n",
    "  care_site_id;\n",
    "    # Total number of Matched and not matched number of Date event happend and date recorded per care_site_id\n",
    "    # This needs to be matched with Care_site table to get the care site Name "
   ]
  },
  {
   "cell_type": "code",
   "execution_count": null,
   "id": "a73c2e0c",
   "metadata": {},
   "outputs": [],
   "source": [
    "CREATE TABLE `CB_2107.Bronchitis_Care_Site_Name` AS\n",
    "SELECT x.*, y.care_site_name\n",
    "FROM `CB_FDM_PrimaryCare_V8.care_site` y\n",
    "INNER JOIN `CB_2107.Bronchitis_Aggregated_by_CareSite`x ON\n",
    " x.care_site_id = y.care_site_id\n",
    "#Inner join to join get the care_site Name and id Matched "
   ]
  },
  {
   "cell_type": "code",
   "execution_count": null,
   "id": "78ac87d8",
   "metadata": {},
   "outputs": [],
   "source": [
    "CREATE TABLE `CB_2107.Bronchitis_Care_Site_Acute_Bron` AS\n",
    "SELECT *\n",
    "FROM `CB_2107.Bronchitis_Care_Site_Name`\n",
    "WHERE ctv3text LIKE '%Acute bronchitis%';\n",
    "# Only care sites with Accute Bronchitis were selected to see if codes are selcted more often then others "
   ]
  },
  {
   "cell_type": "markdown",
   "id": "986a6d4a",
   "metadata": {},
   "source": [
    "# Null SNOMED VALUES "
   ]
  },
  {
   "cell_type": "code",
   "execution_count": null,
   "id": "d2b52594",
   "metadata": {},
   "outputs": [],
   "source": [
    "CREATE TABLE `CB_2107.NULL_SNOMED_CODE_PER_YEAR_SITE` AS\n",
    "SELECT\n",
    "    care_site_id,\n",
    "    EXTRACT(YEAR FROM dateeventrecorded) AS Year,\n",
    "    COUNT(*) AS NULL_SNOMED_CODE\n",
    "FROM `CB_FDM_PrimaryCare_V8.tbl_srcode`\n",
    "WHERE care_site_id IS NOT NULL AND snomedcode IS NULL\n",
    "GROUP BY care_site_id, Year\n",
    "ORDER BY care_site_id, Year;"
   ]
  },
  {
   "cell_type": "code",
   "execution_count": null,
   "id": "110ba7ec",
   "metadata": {},
   "outputs": [],
   "source": [
    "CREATE TABLE `CB_2107.NULL_SNOMED_CODE_PER_YEAR_SITE_JOINED` AS\n",
    "\n",
    "SELECT A.*, B.care_site_name\n",
    "FROM `yhcr-prd-phm-bia-core.CB_2107.NULL_SNOMED_CODE_PER_YEAR_SITE` A\n",
    "INNER JOIN `CB_FDM_PrimaryCare_V8.care_site`B ON A.care_site_id = B.care_site_id;\n"
   ]
  },
  {
   "cell_type": "markdown",
   "id": "6141bab7",
   "metadata": {},
   "source": [
    "# Bronchitis Test Codes"
   ]
  },
  {
   "cell_type": "code",
   "execution_count": null,
   "id": "eab4e672",
   "metadata": {},
   "outputs": [],
   "source": [
    "CREATE TABLE `CB_2107.ALL_Bronchitis` AS\n",
    "SELECT person_id,dateeventrecorded,dateevent,ctv3code,ctv3text,care_site_id\n",
    "FROM `CB_FDM_PrimaryCare_V8.tbl_srcode`\n",
    "WHERE (dateeventrecorded > CAST('2020-01-01' AS DATE)) \n",
    "AND (ctv3text LIKE '% bronchitis%' OR ctv3text LIKE '% Bronchitis%');"
   ]
  },
  {
   "cell_type": "code",
   "execution_count": null,
   "id": "3314c530",
   "metadata": {},
   "outputs": [],
   "source": [
    "# Get all data for bronc with all details and create a new table where the date is greater than 2020 Jan \n",
    "#and only conatins Acute Bron\n",
    "CREATE TABLE `CB_2107.Acute Bronchitis` AS\n",
    "SELECT *\n",
    "FROM `CB_FDM_PrimaryCare_V8.tbl_srcode`\n",
    "WHERE (dateeventrecorded > CAST('2020-01-01' AS DATE)) \n",
    "AND (ctv3text LIKE '%Acute bronchitis%');\n"
   ]
  },
  {
   "cell_type": "code",
   "execution_count": null,
   "id": "082dd63a",
   "metadata": {},
   "outputs": [],
   "source": [
    "CREATE TABLE `CB_2107.Acute Bronchitis_Simplified` AS\n",
    "SELECT person_id,dateeventrecorded,dateevent,ctv3code,ctv3text,care_site_id\n",
    "FROM `CB_FDM_PrimaryCare_V8.tbl_srcode`\n",
    "WHERE (dateeventrecorded > CAST('2020-01-01' AS DATE)) \n",
    "AND (ctv3text LIKE '%Acute bronchitis%');\n",
    "# Simplified to only include certain fields "
   ]
  },
  {
   "cell_type": "code",
   "execution_count": null,
   "id": "06f6cd70",
   "metadata": {},
   "outputs": [],
   "source": [
    "CREATE TABLE `CB_2107.Acute Bronchitis_Simplified_SNOMED` AS\n",
    "SELECT a.*, b.SNOMEDCode\n",
    "FROM `CB_2107.Acute Bronchitis_Simplified`a \n",
    "INNER JOIN  `CB_LOOKUPS.tbl_CTV3ToSnomed_Map`b ON a.CTV3Code = b.CTV3Code;\n",
    "# SNOMED Codes are mapped \n"
   ]
  },
  {
   "cell_type": "code",
   "execution_count": null,
   "id": "9b14b850",
   "metadata": {},
   "outputs": [],
   "source": [
    "CREATE TABLE `CB_2107.Acute Bronchitis_Simplified_Match` AS\n",
    "SELECT\n",
    "    SUM(CASE WHEN dateevent = dateeventrecorded THEN 1 ELSE 0 END) AS DateMatched,\n",
    "    SUM(CASE WHEN dateevent <> dateeventrecorded THEN 1 ELSE 0 END) AS DateNotMatched\n",
    "FROM `CB_2107.Acute Bronchitis_Simplified_SNOMED`;\n",
    "# Query to check the match and do not Match field "
   ]
  },
  {
   "cell_type": "code",
   "execution_count": null,
   "id": "07b6abc6",
   "metadata": {},
   "outputs": [],
   "source": [
    "CREATE TABLE `CB_2107.Acute Bronchitis_Simplified_2021` AS\n",
    "SELECT person_id,dateeventrecorded,dateevent,ctv3code,ctv3text,care_site_id\n",
    "FROM `CB_FDM_PrimaryCare_V8.tbl_srcode`\n",
    "WHERE (dateeventrecorded > CAST('2021-01-01' AS DATE)) \n",
    "AND (ctv3text LIKE '%Acute bronchitis%');"
   ]
  },
  {
   "cell_type": "code",
   "execution_count": null,
   "id": "3bf8a969",
   "metadata": {},
   "outputs": [],
   "source": [
    "CREATE TABLE `CB_2107.Acute Bronchitis_Simplified_Match_2021` AS\n",
    "SELECT\n",
    "    SUM(CASE WHEN dateevent = dateeventrecorded THEN 1 ELSE 0 END) AS DateMatched,\n",
    "    SUM(CASE WHEN dateevent <> dateeventrecorded THEN 1 ELSE 0 END) AS DateNotMatched\n",
    "FROM `CB_2107.Acute Bronchitis_Simplified_2021`;\n",
    "# Query to check the match and do not Match field "
   ]
  },
  {
   "cell_type": "code",
   "execution_count": null,
   "id": "9deac9d7",
   "metadata": {},
   "outputs": [],
   "source": [
    "SELECT ctv3code,ctv3text, COUNT(*) AS NumberOfRecords\n",
    "FROM `CB_2107.ALL_Bronchitis`\n",
    "GROUP BY ctv3code,ctv3text;\n",
    "# Query to check all the CTV3 codes for Bronchitis and thier number of records "
   ]
  },
  {
   "cell_type": "code",
   "execution_count": null,
   "id": "63a9f0bc",
   "metadata": {},
   "outputs": [],
   "source": [
    "CREATE TABLE `CB_2107.All Not Match` AS\n",
    "SELECT\n",
    "    SUM(CASE WHEN dateevent = dateeventrecorded THEN 1 ELSE 0 END) AS DateMatched,\n",
    "    SUM(CASE WHEN dateevent <> dateeventrecorded THEN 1 ELSE 0 END) AS DateNotMatched\n",
    "FROM `CB_FDM_PrimaryCare_V8.tbl_srcode`;\n",
    "# Match / Not Match for All Data "
   ]
  },
  {
   "cell_type": "code",
   "execution_count": null,
   "id": "46b38b08",
   "metadata": {},
   "outputs": [],
   "source": [
    "CREATE TABLE `CB_2107.Acute Bronc agg by site` AS\n",
    "SELECT\n",
    "  care_site_id,\n",
    "  ctv3code,\n",
    "  ctv3text,\n",
    "  COUNT(DISTINCT person_id) AS PersonCount\n",
    "FROM\n",
    "  `CB_2107.Acute Bronchitis_Simplified_SNOMED`\n",
    "\n",
    "GROUP BY\n",
    "  care_site_id,\n",
    "  ctv3code,\n",
    "  ctv3text\n",
    "ORDER BY\n",
    "  care_site_id,\n",
    "  ctv3text;\n",
    "# Acute Bronc aggregated by Site"
   ]
  },
  {
   "cell_type": "code",
   "execution_count": null,
   "id": "0bcd269e",
   "metadata": {},
   "outputs": [],
   "source": [
    "CREATE TABLE `CB_2107.SNOMED_CTV3_Mapping issues` AS\n",
    "SELECT SNOMEDCode,COUNT(CTV3Code) AS CTV3CodeCount\n",
    "FROM `CB_LOOKUPS.tbl_CTV3ToSnomed_Map`\n",
    "GROUP BY SNOMEDCode\n",
    "HAVING COUNT(DISTINCT CTV3Code) > 1;\n",
    "#Table A has Ctcode and medCode - Multiple Ctcode can be mapped into a single medCode , \n",
    "#SQL query to  Print all the Medcode where a more than 1 ctv code has been assigned to, \n",
    "#alsong with a recod count of the number of ctv code assigned to each code "
   ]
  },
  {
   "cell_type": "code",
   "execution_count": null,
   "id": "f350e6bd",
   "metadata": {},
   "outputs": [],
   "source": [
    "SELECT\n",
    "    SNOMEDCode,\n",
    "    COUNT(CTV3Code) AS CTV3Code_count\n",
    "FROM\n",
    "    `CB_LOOKUPS.tbl_CTV3ToSnomed_Map`\n",
    "GROUP BY\n",
    "    SNOMEDCode\n",
    "HAVING\n",
    "    COUNT(CTV3Code) > 1\n",
    "ORDER BY\n",
    "    CTV3Code_count DESC, SNOMEDCode DESC\n",
    "LIMIT 20;\n",
    "# Same things as above, but only the first 20 recods with the highest count "
   ]
  },
  {
   "cell_type": "code",
   "execution_count": null,
   "id": "d5fcc514",
   "metadata": {},
   "outputs": [],
   "source": [
    "CREATE TABLE `CB_2107.SNOMED_CTV3_Mapping issues_20_Codes` AS\n",
    "SELECT\n",
    "    SNOMEDCode,CTV3Code,\n",
    "    \n",
    "FROM\n",
    "    `CB_LOOKUPS.tbl_CTV3ToSnomed_Map`\n",
    "WHERE\n",
    "    SNOMEDCode IN ('52684005', '214640008', '34552002','3160009','3160009','418019003', '127349007','127350007','129675007','399269003','217176002','716481000000102','473023007','166001','88817006','90688005','416098002','404684003','71388002','242089005','91388009') \n",
    "GROUP BY\n",
    "    SNOMEDCode,CTV3Code;\n",
    "# SNOMED and CTV3 codes for the top 20 codes with highest CTV3 Mapping \n",
    "# there is an issue with dataset, this table ot the other tables in dataset that provides similar details which one is correct?  "
   ]
  },
  {
   "cell_type": "code",
   "execution_count": null,
   "id": "d22afd4e",
   "metadata": {},
   "outputs": [],
   "source": [
    "CREATE TABLE `CB_2107.SNOMED_CTV3_Mapping issues_concept code-ID` AS\n",
    "SELECT SNOMEDCT_CONCEPTID,COUNT(CTV3) AS CTV3CodeCount\n",
    "FROM `yhcr-prd-phm-bia-core.CB_LOOKUPS.tbl_EFI2_Codelist`\n",
    "GROUP BY SNOMEDCT_CONCEPTID\n",
    "HAVING COUNT(DISTINCT CTV3) > 1;\n",
    "# Using the EF1_2 Codelist to draw codes that are matched to multiple snomed/CTV3"
   ]
  },
  {
   "cell_type": "code",
   "execution_count": null,
   "id": "2a7c883a",
   "metadata": {},
   "outputs": [],
   "source": [
    "SELECT\n",
    "    SNOMEDCT_CONCEPTID,\n",
    "    STRING_AGG(CTV3, ', ') AS CTV3,\n",
    "    STRING_AGG(Codedescription, ', ') AS Codedescription\n",
    "FROM\n",
    "    `yhcr-prd-phm-bia-core.CB_LOOKUPS.tbl_EFI2_Codelist`\n",
    "GROUP BY\n",
    "    SNOMEDCT_CONCEPTID;\n",
    " #NOT THE DESIRED RESULT "
   ]
  },
  {
   "cell_type": "code",
   "execution_count": null,
   "id": "f0f6ca59",
   "metadata": {},
   "outputs": [],
   "source": [
    "SELECT\n",
    "    CTV3Code,CTV3Desc\n",
    "FROM\n",
    "    `yhcr-prd-phm-bia-core.CB_LOOKUPS.tbl_CTV3Codes_Lookup` \n",
    "WHERE\n",
    "    CTV3Code LIKE '%Eu102%'OR CTV3Code LIKE '%Eu107%'OR CTV3Code LIKE '%Eu10z%'\n",
    "    \n",
    "#Shows the CTV3 code and thier decription\n",
    "#This code and the code below shows that multiple CTV3 codes such as shows int he document have been mapped into single CTV3.\n",
    "# Anothe issue some use SNOMED some use CTV3 - the ones that used CTV3, is all code is not accounted for\n",
    "# some info will be missed. \n"
   ]
  },
  {
   "cell_type": "code",
   "execution_count": null,
   "id": "daba4ef1",
   "metadata": {},
   "outputs": [],
   "source": [
    "SELECT\n",
    "    CTV3Code,SNOMEDCode\n",
    "FROM\n",
    "    `CB_2107.SNOMED_CTV3_Mapping issues_20_Codes`\n",
    "WHERE\n",
    "    CTV3Code LIKE '%Eu10%';\n",
    "    #Shows the SNOMED CODE AND CTV3 Code- Check Desc Above "
   ]
  },
  {
   "cell_type": "code",
   "execution_count": null,
   "id": "063c2159",
   "metadata": {},
   "outputs": [],
   "source": [
    "SELECT\n",
    "    CTV3,Codedescription,SNOMEDCT_CONCEPTID\n",
    "FROM\n",
    "    `yhcr-prd-phm-bia-core.CB_LOOKUPS.tbl_EFI2_Codelist`\n",
    "WHERE\n",
    "    SNOMEDCT_CONCEPTID = '191448002';\n",
    "# This code tests for all the codes that have multiple CTV3 codes mapped into them. this table is found SNOMED_CTV3_Mapping\n",
    "#iSSUES cONCEPT CODE_id"
   ]
  },
  {
   "cell_type": "markdown",
   "id": "e4fcaa8f",
   "metadata": {},
   "source": [
    "# Covid SQL"
   ]
  },
  {
   "cell_type": "code",
   "execution_count": null,
   "id": "1c5099ea",
   "metadata": {},
   "outputs": [],
   "source": [
    "CREATE TABLE `CB_2107.COVID_CODE_INTRO` AS\n",
    "SELECT * FROM `CB_CDM_VOCAB.concept`\n",
    "WHERE (valid_end_date > CAST('1950-01-01' AS DATE)) AND \n",
    "(concept_name LIKE '%Coronavirus%' OR concept_name LIKE '%Coronavirus%')\n",
    "ORDER BY valid_end_date ASC\n",
    "\n",
    "# Shows all the people that have Coronavirus in thier GP records \n",
    "# Multiple different codeing systems are used at each GP\n",
    "# THIS CODE IN SNOMED WAS INTODUCED IN 2020 MAY\n",
    "# what was this before- Covid stated in early 2020 ? Many records have been missed?"
   ]
  },
  {
   "cell_type": "code",
   "execution_count": null,
   "id": "904b9f9a",
   "metadata": {},
   "outputs": [],
   "source": [
    "CREATE TABLE `CB_2107.COVID_CODE_DIFFERENT` AS\n",
    "SELECT vocabulary_id, COUNT(*) AS count\n",
    "FROM `CB_2107.COVID_CODE_INTRO`\n",
    "GROUP BY vocabulary_id;\n",
    "# This query has all the Coding systems, and how many codes under each system since 1950, with SNOMED having the second\n",
    "#highest - this includes the Obervation and medication and all categories - Just to get an Idea (Initial analysis)"
   ]
  },
  {
   "cell_type": "code",
   "execution_count": null,
   "id": "c59df869",
   "metadata": {},
   "outputs": [],
   "source": [
    "CREATE TABLE `CB_2107.COVID_SNOMED` AS\n",
    "SELECT *\n",
    "FROM `CB_CDM_VOCAB.concept`\n",
    "WHERE vocabulary_id = 'SNOMED'\n",
    "  AND concept_name LIKE '%Coronavirus %'\n",
    "  AND valid_end_date > CAST('1950-01-01' AS DATE);\n",
    "\n",
    "# This query only gets the Concept code for COVID that have SNOMED id "
   ]
  },
  {
   "cell_type": "code",
   "execution_count": null,
   "id": "a09f4722",
   "metadata": {},
   "outputs": [],
   "source": [
    "CREATE TABLE `CB_2107.COVID_SNOMED_INVALID` AS\n",
    "SELECT *\n",
    "FROM `CB_2107.COVID_SNOMED`\n",
    "WHERE invalid_reason != 'null';\n",
    "#Creates A LIST of invalid codes for Covid for SNOMED"
   ]
  },
  {
   "cell_type": "code",
   "execution_count": null,
   "id": "ea9ea5dd",
   "metadata": {},
   "outputs": [],
   "source": [
    "CREATE TABLE `CB_2107.COVID_SNOMED_VALID` AS\n",
    "SELECT *\n",
    "FROM `CB_2107.COVID_SNOMED`\n",
    "WHERE invalid_reason IS NULL ;\n",
    "#Creates A LIST of valid codes for Covid for SNOMED"
   ]
  },
  {
   "cell_type": "code",
   "execution_count": null,
   "id": "ae94b626",
   "metadata": {},
   "outputs": [],
   "source": [
    "CREATE TABLE `CB_2107.COVID_Cases` AS\n",
    "SELECT\n",
    "    *\n",
    "    \n",
    "FROM\n",
    "    `CB_FDM_PrimaryCare_V8.tbl_srcode`\n",
    "WHERE\n",
    "    SNOMEDCode IN ('120814005', '186747009', '204351000000100','906711000000107',\n",
    "                   '1029481000000103','1008541000000105', '933791000000101','817221000000104',\n",
    "                   '817111000000102','225631000001109','225591000001109','225581000001107','225681000001108',\n",
    "                   '226631000001102','225571000001105');\n",
    "#List of people with Covid - Only checking for SNOMED Codes"
   ]
  },
  {
   "cell_type": "code",
   "execution_count": null,
   "id": "76d10117",
   "metadata": {},
   "outputs": [],
   "source": [
    "CREATE TABLE `CB_2107.COVID_SNOMED_JOINED` AS\n",
    "SELECT *\n",
    "FROM `CB_2107.COVID_SNOMED_VALID`\n",
    "INNER JOIN `CB_2107.COVID_Cases`  ON CAST(`CB_2107.COVID_SNOMED_VALID`.concept_code AS STRING) = `CB_2107.COVID_Cases` .snomedcode;\n",
    "# The SNOMED codes have noe been Matched for thier description "
   ]
  },
  {
   "cell_type": "code",
   "execution_count": null,
   "id": "c13ffcb1",
   "metadata": {},
   "outputs": [],
   "source": [
    "CREATE TABLE `CB_2107.COVID_CODE_START_Date` AS\n",
    "SELECT\n",
    "    snomedcode,concept_name,valid_start_date,\n",
    "    EXTRACT(YEAR FROM dateevent) AS Year,\n",
    "    EXTRACT(MONTH FROM dateevent) AS Month,\n",
    "    COUNT(*) AS NumberOfRecords\n",
    "FROM `CB_2107.COVID_SNOMED_JOINED`\n",
    "GROUP BY snomedcode, Year, Month, concept_name,valid_start_date\n",
    "ORDER BY snomedcode, Year, Month,concept_name,valid_start_date;\n",
    "# Start Date of all Covid Codes, and when they were used the most \n",
    "# Although the Codes "
   ]
  },
  {
   "cell_type": "code",
   "execution_count": null,
   "id": "ebfd80f2",
   "metadata": {},
   "outputs": [],
   "source": [
    "CREATE TABLE `CB_2107.COVID_BY_CARESITE_BY_MMONTH_YEAR` AS\n",
    "\n",
    "SELECT\n",
    "    care_site_id,\n",
    "    EXTRACT(YEAR FROM dateevent) AS Year,\n",
    "    EXTRACT(MONTH FROM dateevent) AS Month,\n",
    "    COUNT(*) AS NumberOfRecords\n",
    "FROM `CB_2107.SNOMED_NAME_MAPPED`\n",
    "GROUP BY care_site_id, Year, Month\n",
    "ORDER BY care_site_id, Year, Month;\n",
    "\n",
    "\n",
    "#Covid case aggregated by Year and Month per Caresite ID "
   ]
  },
  {
   "cell_type": "code",
   "execution_count": null,
   "id": "34ebb71a",
   "metadata": {},
   "outputs": [],
   "source": [
    "CREATE TABLE `CB_2107.COVID_BY_CARESITE_name_BY_MONTH_YEAR` AS\n",
    "SELECT A.*, B.care_site_name,location_id,place_of_service_concept_id\n",
    "FROM `CB_2107.COVID_BY_CARESITE_BY_MMONTH_YEAR` A\n",
    "INNER JOIN `CB_FDM_PrimaryCare_V8.care_site` B\n",
    "ON A.care_site_id = B.care_site_id;\n",
    "#CareSite Name joined from Primarycare_CareSite "
   ]
  },
  {
   "cell_type": "code",
   "execution_count": null,
   "id": "9770e38c",
   "metadata": {},
   "outputs": [],
   "source": [
    "CREATE TABLE `CB_2107.COVID_BY_CARESITE_name_Aggrigated` AS\n",
    "SELECT\n",
    "    care_site_name,\n",
    "    concept_name,\n",
    "    EXTRACT(DATE FROM dateevent) AS Year,\n",
    "    COUNT(*) AS NumberOfCases\n",
    "FROM `yhcr-prd-phm-bia-core.CB_2107.SNOMED_NAME_MAPPED_CareSiteName`\n",
    "GROUP BY care_site_name, concept_name, Year\n",
    "ORDER BY care_site_name, Year, concept_name;\n"
   ]
  },
  {
   "cell_type": "markdown",
   "id": "1d2a30ba",
   "metadata": {},
   "source": [
    "# COVID Codes Part II"
   ]
  },
  {
   "cell_type": "code",
   "execution_count": null,
   "id": "978d5a6f",
   "metadata": {},
   "outputs": [],
   "source": [
    "CREATE TABLE `CB_2107.NEW_ALL_COVID_CASES` AS\n",
    "\n",
    "SELECT *\n",
    "FROM `CB_FDM_PrimaryCare_V8.tbl_srcode`\n",
    "WHERE (ctv3text LIKE '%COVID%' OR ctv3text LIKE '%Coronavirus%'OR ctv3text LIKE '%Long COVID%')\n",
    "#table of all cases of Covid from the Peopl Table "
   ]
  },
  {
   "cell_type": "code",
   "execution_count": null,
   "id": "1d769104",
   "metadata": {},
   "outputs": [],
   "source": [
    "CREATE TABLE `CB_2107.NEW_ALL_COVID_CASES_2017` AS\n",
    "SELECT * FROM `CB_2107.NEW_ALL_COVID_CASES`\n",
    "WHERE (dateevent > CAST('2017-12-30' AS DATE)) \n",
    "#cASES FROM 2017"
   ]
  },
  {
   "cell_type": "code",
   "execution_count": null,
   "id": "d58f2471",
   "metadata": {},
   "outputs": [],
   "source": [
    "CREATE TABLE `CB_2107.NEW_ALL_COVID_CASES_Grouped_CTV3` AS\n",
    "SELECT ctv3code, ctv3text,snomedcode, COUNT(*) AS CountOfRecords\n",
    "FROM `CB_2107.NEW_ALL_COVID_CASES`\n",
    "GROUP BY ctv3code, ctv3text,snomedcode;\n",
    "# Group the table by CTV3 codes "
   ]
  },
  {
   "cell_type": "code",
   "execution_count": null,
   "id": "bbf84004",
   "metadata": {},
   "outputs": [],
   "source": [
    "CREATE TABLE `CB_2107.NEW_COVID_SNOMED` AS\n",
    "SELECT *\n",
    "FROM `CB_CDM_VOCAB.concept`\n",
    "WHERE vocabulary_id = 'SNOMED'\n",
    "  AND (concept_name LIKE '%Coronavirus %' OR concept_name LIKE '%COVID %'OR concept_name LIKE '%coronavirus %'OR concept_name LIKE '%corona %' )\n",
    "  AND Invalid_reason  IS NULL ;\n",
    "# A list of all Covid Codes from SNOMED Concept "
   ]
  },
  {
   "cell_type": "code",
   "execution_count": null,
   "id": "e41c2e16",
   "metadata": {},
   "outputs": [],
   "source": [
    "CREATE TABLE `CB_2107.NEW_COVID_SNOMED_GROUPED` AS\n",
    "\n",
    "SELECT valid_start_date, COUNT(*) AS NumberOfRecords\n",
    "FROM `CB_2107.NEW_COVID_SNOMED`\n",
    "GROUP BY valid_start_date;\n",
    "# Number of codes grouped by thier release year "
   ]
  },
  {
   "cell_type": "code",
   "execution_count": null,
   "id": "2f9ae9e8",
   "metadata": {},
   "outputs": [],
   "source": [
    "SELECT *\n",
    "FROM `CB_2107.NEW_ALL_COVID_CASES_2017`\n",
    "WHERE ctv3code = 'X731E';\n"
   ]
  },
  {
   "cell_type": "markdown",
   "id": "c14fccb1",
   "metadata": {},
   "source": [
    "# Influenza SQL"
   ]
  },
  {
   "cell_type": "code",
   "execution_count": null,
   "id": "98182d1a",
   "metadata": {},
   "outputs": [],
   "source": [
    "#CREATE TABLE `CB_2107.Influenza_Cases` AS\n",
    "SELECT\n",
    "    *\n",
    "    \n",
    "FROM\n",
    "    `CB_FDM_PrimaryCare_V8.tbl_srcode`\n",
    "WHERE\n",
    "    SNOMEDCode IN ('10629191000119100', '719865001', '719590007','906711000000107',\n",
    "                   '408687004','408685007', '407496005','441119003',\n",
    "                   '195726000','27475006','230188005','59221008','30270006',\n",
    "                   '64880000','64917006','68949000','78046005','78911000','85832003',\n",
    "                   '70233007', '35377009', '192721000','10809006','932221000000103',\n",
    "                   '1033091000000109','1033111000000104','1033051000000101','1033071000000105');\n",
    "    # Creating a list of people who has Influenza using the valid codes \n",
    "    #Table deleted "
   ]
  },
  {
   "cell_type": "code",
   "execution_count": null,
   "id": "75aa9bc1",
   "metadata": {},
   "outputs": [],
   "source": [
    "CREATE TABLE `CB_2107.Influenza_Cases_2019` AS\n",
    "\n",
    "SELECT\n",
    "    *\n",
    "    \n",
    "FROM\n",
    "    `CB_FDM_PrimaryCare_V8.tbl_srcode`\n",
    "\n",
    "WHERE  (dateevent > CAST('2019-01-01' AS DATE)) AND \n",
    "ctv3text  LIKE '%Influenza%' AND ctv3text  LIKE '%flu%' AND\n",
    "  (ctv3text NOT LIKE '%vacc%' AND ctv3text NOT LIKE '%SMS%' AND ctv3text NOT LIKE '%immunisation%'\n",
    "  AND ctv3text NOT LIKE '%invite %'AND ctv3text NOT LIKE '%Vaccine%'); \n",
    "    \n",
    "    # All the cases with inlfuenza from 2019 and Above "
   ]
  },
  {
   "cell_type": "code",
   "execution_count": null,
   "id": "d3bd6803",
   "metadata": {},
   "outputs": [],
   "source": [
    "CREATE TABLE `CB_2107.Influenza_Cases_2019_Record_Count` AS\n",
    "SELECT snomedcode, COUNT(*) AS RecordCount\n",
    "FROM `CB_2107.Influenza_Cases_2019`\n",
    "GROUP BY snomedcode\n",
    "ORDER BY snomedcode;\n",
    "# aLL THE RECORD FOR Inlfuelza code FROM pERSON TO snomed"
   ]
  },
  {
   "cell_type": "code",
   "execution_count": null,
   "id": "9802bb70",
   "metadata": {},
   "outputs": [],
   "source": [
    "CREATE TABLE `CB_2107.Influenza_Cases_2019_Record_Count_joined` AS\n",
    "SELECT A.*,B.*\n",
    "FROM `CB_2107.Influenza_Cases_2019_Record_Count` A\n",
    "INNER JOIN `CB_CDM_VOCAB.concept`B\n",
    "ON A.snomedcode = B.concept_code;\n",
    "# Joined table for all the codes extracted using the srcode first - where condidtion and everything is mixed - \n",
    "#From person to SNOMED "
   ]
  },
  {
   "cell_type": "code",
   "execution_count": null,
   "id": "5250c713",
   "metadata": {},
   "outputs": [],
   "source": [
    "SELECT\n",
    "    *\n",
    "    \n",
    "FROM\n",
    "    `CB_CDM_V1_50k_Random.concept`\n",
    "WHERE\n",
    "    concept_code IN ('1033091000000109', '195878008', '195929004','315642008',\n",
    "                   '359351000000100','407479009', '407480007','441049004',\n",
    "                   '441345003','442696006','444426005','511781000000101','55014007',\n",
    "                   '6142004','711330007','95891005');\n",
    "    \n",
    "    # All the matching codes from the cases table to match the Concept table from the rocord count table \n",
    "    # Checking from pERSON TABLE TO snomed \n",
    "    "
   ]
  },
  {
   "cell_type": "markdown",
   "id": "8ffb112d",
   "metadata": {},
   "source": [
    "# Influenza Code Part II - Testing inclusion criteria"
   ]
  },
  {
   "cell_type": "code",
   "execution_count": null,
   "id": "a13bf680",
   "metadata": {},
   "outputs": [],
   "source": [
    "CREATE TABLE `CB_2107.Influenza_Active_Codes` AS\n",
    "\n",
    "     SELECT *\n",
    "FROM `CB_CDM_VOCAB.concept`\n",
    "\n",
    "  WHERE concept_name LIKE '%Influenza%'\n",
    " AND domain_id = 'Condition' AND vocabulary_id = 'SNOMED'\n",
    "  AND invalid_reason IS  NULL; \n",
    "# Checking for valid SNOMED cases with Influenza - Has many codes "
   ]
  },
  {
   "cell_type": "code",
   "execution_count": null,
   "id": "6447c7c0",
   "metadata": {},
   "outputs": [],
   "source": [
    "#Checing from SNOMED to person\n",
    "CREATE TABLE `CB_2107.Influenza_Cases_snomed_Cases` AS\n",
    "SELECT\n",
    "    *\n",
    "    \n",
    "FROM\n",
    "    `CB_FDM_PrimaryCare_V8.tbl_srcode`\n",
    "WHERE\n",
    "    SNOMEDCode IN ('10628911000119103', '10674911000119108', '142951000119106','10629351000119108',\n",
    "                   '711334003','10685111000119102', '328531000119104','10677711000119101',\n",
    "                   '772839003','772810003','772828001','866126000','719865001',\n",
    "                   '719590007','453931000124108','434931000124106','435051000124104','707448003','961000124101',\n",
    "                   '70233007', '35377009', '192721000','10809006','932221000000103',\n",
    "                   '941000124100','951000124103','921000124107','931000124105',\n",
    "                   \n",
    "                   '442438000','442696006','1149091008',\n",
    "                   '738276008','471361000124100','713083002','450716003','450715004','74644004',\n",
    "                   '195923003', '43692000', '41269000','195929004','24662006',\n",
    "                   '315642008','95891005','195924009','81524006',\n",
    "                   \n",
    "                   '6142004','61700007','1033091000000109',\n",
    "                   '1033051000000101','1033071000000105','1033111000000104') AND (dateevent > CAST('2019-01-01' AS DATE));\n",
    "    # tHIS METHOD WAS ALSO TRIED - BUT DID NOT GIVE A LOT OF VARIATION IN THE SNIMED CODE \n",
    "    #So this table only gives cases from SRCode that are measured under Condition"
   ]
  },
  {
   "cell_type": "code",
   "execution_count": null,
   "id": "bfdd7abf",
   "metadata": {},
   "outputs": [],
   "source": [
    "CREATE TABLE `CB_2107.Influenza_Cases_snomed_Cases_Record` AS\n",
    "SELECT snomedcode, COUNT(*) AS RecordCount\n",
    "FROM `CB_2107.Influenza_Cases_snomed_Cases`\n",
    "GROUP BY snomedcode\n",
    "ORDER BY snomedcode;\n",
    "# This has SNOMED to person - ONLY Cases under Condiditon"
   ]
  },
  {
   "cell_type": "code",
   "execution_count": null,
   "id": "13b45eed",
   "metadata": {},
   "outputs": [],
   "source": [
    "CREATE TABLE `CB_2107.Influenza_Cases_snomed_Cases_Record_joined` AS\n",
    "SELECT A.*,B.*\n",
    "FROM `CB_2107.Influenza_Cases_snomed_Cases_Record` A\n",
    "INNER JOIN `CB_CDM_VOCAB.concept`B\n",
    "ON A.snomedcode = B.concept_code;\n",
    "# SNOMED TO person Mapping only condidtion = But includes SNOMED and Nebraska?"
   ]
  },
  {
   "cell_type": "code",
   "execution_count": null,
   "id": "ead40f1c",
   "metadata": {},
   "outputs": [],
   "source": [
    "\n",
    "CREATE TABLE `CB_2107.Influenza_Cases_snomed_Cases_Record_joined_SNOMED_ONLY` AS\n",
    "SELECT *\n",
    "FROM `CB_2107.Influenza_Cases_snomed_Cases_Record_joined`\n",
    "WHERE (vocabulary_id = 'SNOMED' )\n",
    "# This removed the dupliactions of SNOMED and Nabraska = Only SNOMED Kept "
   ]
  },
  {
   "cell_type": "code",
   "execution_count": null,
   "id": "3d89023b",
   "metadata": {},
   "outputs": [],
   "source": [
    "     SELECT *\n",
    "FROM `CB_CDM_VOCAB.concept`  \n",
    "WHERE (domain_id = 'Condition' or domain_id = 'Observation')\n",
    "\n",
    "#Checking both Observation and Condition"
   ]
  },
  {
   "cell_type": "code",
   "execution_count": null,
   "id": "d756da99",
   "metadata": {},
   "outputs": [],
   "source": [
    "SELECT DISTINCT (ctv3text)\n",
    "FROM `CB_FDM_PrimaryCare_V8.tbl_srcode`\n",
    "WHERE (ctv3text LIKE '%COVID%' OR ctv3text LIKE '%Coronavirus%'OR ctv3text LIKE '%coronavirus%')\n",
    "# Inclusion Criteria Tested "
   ]
  }
 ],
 "metadata": {
  "kernelspec": {
   "display_name": "Python 3 (ipykernel)",
   "language": "python",
   "name": "python3"
  },
  "language_info": {
   "codemirror_mode": {
    "name": "ipython",
    "version": 3
   },
   "file_extension": ".py",
   "mimetype": "text/x-python",
   "name": "python",
   "nbconvert_exporter": "python",
   "pygments_lexer": "ipython3",
   "version": "3.9.13"
  }
 },
 "nbformat": 4,
 "nbformat_minor": 5
}
